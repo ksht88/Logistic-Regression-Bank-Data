{
 "cells": [
  {
   "cell_type": "code",
   "execution_count": 22,
   "id": "88ede164",
   "metadata": {},
   "outputs": [],
   "source": [
    "import pandas as pd\n",
    "import numpy as np\n",
    "import matplotlib.pyplot as plt\n",
    "import seaborn as sns \n",
    "from sklearn.model_selection import train_test_split\n",
    "from sklearn import metrics\n",
    "from sklearn.linear_model import LogisticRegression"
   ]
  },
  {
   "cell_type": "code",
   "execution_count": 7,
   "id": "b54277b6",
   "metadata": {},
   "outputs": [],
   "source": [
    "data=pd.read_csv(\"Train_RiskScore.csv\")"
   ]
  },
  {
   "cell_type": "code",
   "execution_count": 8,
   "id": "b0cfd32d",
   "metadata": {},
   "outputs": [
    {
     "data": {
      "text/html": [
       "<div>\n",
       "<style scoped>\n",
       "    .dataframe tbody tr th:only-of-type {\n",
       "        vertical-align: middle;\n",
       "    }\n",
       "\n",
       "    .dataframe tbody tr th {\n",
       "        vertical-align: top;\n",
       "    }\n",
       "\n",
       "    .dataframe thead th {\n",
       "        text-align: right;\n",
       "    }\n",
       "</style>\n",
       "<table border=\"1\" class=\"dataframe\">\n",
       "  <thead>\n",
       "    <tr style=\"text-align: right;\">\n",
       "      <th></th>\n",
       "      <th>ID</th>\n",
       "      <th>age</th>\n",
       "      <th>ed</th>\n",
       "      <th>employ</th>\n",
       "      <th>address</th>\n",
       "      <th>income</th>\n",
       "      <th>debtinc</th>\n",
       "      <th>creddebt</th>\n",
       "      <th>othdebt</th>\n",
       "      <th>default</th>\n",
       "    </tr>\n",
       "  </thead>\n",
       "  <tbody>\n",
       "    <tr>\n",
       "      <th>0</th>\n",
       "      <td>0</td>\n",
       "      <td>41</td>\n",
       "      <td>3</td>\n",
       "      <td>17</td>\n",
       "      <td>12</td>\n",
       "      <td>176</td>\n",
       "      <td>9.3</td>\n",
       "      <td>11.359392</td>\n",
       "      <td>5.008608</td>\n",
       "      <td>1</td>\n",
       "    </tr>\n",
       "    <tr>\n",
       "      <th>1</th>\n",
       "      <td>1</td>\n",
       "      <td>27</td>\n",
       "      <td>1</td>\n",
       "      <td>10</td>\n",
       "      <td>6</td>\n",
       "      <td>31</td>\n",
       "      <td>17.3</td>\n",
       "      <td>1.362202</td>\n",
       "      <td>4.000798</td>\n",
       "      <td>0</td>\n",
       "    </tr>\n",
       "    <tr>\n",
       "      <th>2</th>\n",
       "      <td>2</td>\n",
       "      <td>40</td>\n",
       "      <td>1</td>\n",
       "      <td>15</td>\n",
       "      <td>14</td>\n",
       "      <td>55</td>\n",
       "      <td>5.5</td>\n",
       "      <td>0.856075</td>\n",
       "      <td>2.168925</td>\n",
       "      <td>0</td>\n",
       "    </tr>\n",
       "    <tr>\n",
       "      <th>3</th>\n",
       "      <td>3</td>\n",
       "      <td>41</td>\n",
       "      <td>1</td>\n",
       "      <td>15</td>\n",
       "      <td>14</td>\n",
       "      <td>120</td>\n",
       "      <td>2.9</td>\n",
       "      <td>2.658720</td>\n",
       "      <td>0.821280</td>\n",
       "      <td>0</td>\n",
       "    </tr>\n",
       "    <tr>\n",
       "      <th>4</th>\n",
       "      <td>4</td>\n",
       "      <td>24</td>\n",
       "      <td>2</td>\n",
       "      <td>2</td>\n",
       "      <td>0</td>\n",
       "      <td>28</td>\n",
       "      <td>17.3</td>\n",
       "      <td>1.787436</td>\n",
       "      <td>3.056564</td>\n",
       "      <td>1</td>\n",
       "    </tr>\n",
       "    <tr>\n",
       "      <th>...</th>\n",
       "      <td>...</td>\n",
       "      <td>...</td>\n",
       "      <td>...</td>\n",
       "      <td>...</td>\n",
       "      <td>...</td>\n",
       "      <td>...</td>\n",
       "      <td>...</td>\n",
       "      <td>...</td>\n",
       "      <td>...</td>\n",
       "      <td>...</td>\n",
       "    </tr>\n",
       "    <tr>\n",
       "      <th>695</th>\n",
       "      <td>695</td>\n",
       "      <td>36</td>\n",
       "      <td>2</td>\n",
       "      <td>6</td>\n",
       "      <td>15</td>\n",
       "      <td>27</td>\n",
       "      <td>4.6</td>\n",
       "      <td>0.262062</td>\n",
       "      <td>0.979938</td>\n",
       "      <td>1</td>\n",
       "    </tr>\n",
       "    <tr>\n",
       "      <th>696</th>\n",
       "      <td>696</td>\n",
       "      <td>29</td>\n",
       "      <td>2</td>\n",
       "      <td>6</td>\n",
       "      <td>4</td>\n",
       "      <td>21</td>\n",
       "      <td>11.5</td>\n",
       "      <td>0.369495</td>\n",
       "      <td>2.045505</td>\n",
       "      <td>0</td>\n",
       "    </tr>\n",
       "    <tr>\n",
       "      <th>697</th>\n",
       "      <td>697</td>\n",
       "      <td>33</td>\n",
       "      <td>1</td>\n",
       "      <td>15</td>\n",
       "      <td>3</td>\n",
       "      <td>32</td>\n",
       "      <td>7.6</td>\n",
       "      <td>0.491264</td>\n",
       "      <td>1.940736</td>\n",
       "      <td>0</td>\n",
       "    </tr>\n",
       "    <tr>\n",
       "      <th>698</th>\n",
       "      <td>698</td>\n",
       "      <td>45</td>\n",
       "      <td>1</td>\n",
       "      <td>19</td>\n",
       "      <td>22</td>\n",
       "      <td>77</td>\n",
       "      <td>8.4</td>\n",
       "      <td>2.302608</td>\n",
       "      <td>4.165392</td>\n",
       "      <td>0</td>\n",
       "    </tr>\n",
       "    <tr>\n",
       "      <th>699</th>\n",
       "      <td>699</td>\n",
       "      <td>37</td>\n",
       "      <td>1</td>\n",
       "      <td>12</td>\n",
       "      <td>14</td>\n",
       "      <td>44</td>\n",
       "      <td>14.7</td>\n",
       "      <td>2.994684</td>\n",
       "      <td>3.473316</td>\n",
       "      <td>0</td>\n",
       "    </tr>\n",
       "  </tbody>\n",
       "</table>\n",
       "<p>700 rows × 10 columns</p>\n",
       "</div>"
      ],
      "text/plain": [
       "      ID  age  ed  employ  address  income  debtinc   creddebt   othdebt  \\\n",
       "0      0   41   3      17       12     176      9.3  11.359392  5.008608   \n",
       "1      1   27   1      10        6      31     17.3   1.362202  4.000798   \n",
       "2      2   40   1      15       14      55      5.5   0.856075  2.168925   \n",
       "3      3   41   1      15       14     120      2.9   2.658720  0.821280   \n",
       "4      4   24   2       2        0      28     17.3   1.787436  3.056564   \n",
       "..   ...  ...  ..     ...      ...     ...      ...        ...       ...   \n",
       "695  695   36   2       6       15      27      4.6   0.262062  0.979938   \n",
       "696  696   29   2       6        4      21     11.5   0.369495  2.045505   \n",
       "697  697   33   1      15        3      32      7.6   0.491264  1.940736   \n",
       "698  698   45   1      19       22      77      8.4   2.302608  4.165392   \n",
       "699  699   37   1      12       14      44     14.7   2.994684  3.473316   \n",
       "\n",
       "     default  \n",
       "0          1  \n",
       "1          0  \n",
       "2          0  \n",
       "3          0  \n",
       "4          1  \n",
       "..       ...  \n",
       "695        1  \n",
       "696        0  \n",
       "697        0  \n",
       "698        0  \n",
       "699        0  \n",
       "\n",
       "[700 rows x 10 columns]"
      ]
     },
     "execution_count": 8,
     "metadata": {},
     "output_type": "execute_result"
    }
   ],
   "source": [
    "data"
   ]
  },
  {
   "cell_type": "code",
   "execution_count": 9,
   "id": "79ca7fb6",
   "metadata": {},
   "outputs": [],
   "source": [
    "data.drop([\"ID\"], axis=1, inplace=True)"
   ]
  },
  {
   "cell_type": "code",
   "execution_count": 10,
   "id": "2e501325",
   "metadata": {},
   "outputs": [
    {
     "name": "stdout",
     "output_type": "stream",
     "text": [
      "<class 'pandas.core.frame.DataFrame'>\n",
      "RangeIndex: 700 entries, 0 to 699\n",
      "Data columns (total 9 columns):\n",
      " #   Column    Non-Null Count  Dtype  \n",
      "---  ------    --------------  -----  \n",
      " 0   age       700 non-null    int64  \n",
      " 1   ed        700 non-null    int64  \n",
      " 2   employ    700 non-null    int64  \n",
      " 3   address   700 non-null    int64  \n",
      " 4   income    700 non-null    int64  \n",
      " 5   debtinc   700 non-null    float64\n",
      " 6   creddebt  700 non-null    float64\n",
      " 7   othdebt   700 non-null    float64\n",
      " 8   default   700 non-null    int64  \n",
      "dtypes: float64(3), int64(6)\n",
      "memory usage: 49.3 KB\n"
     ]
    }
   ],
   "source": [
    "data.info() "
   ]
  },
  {
   "cell_type": "markdown",
   "id": "e102c565",
   "metadata": {},
   "source": [
    "## EDA "
   ]
  },
  {
   "cell_type": "code",
   "execution_count": 12,
   "id": "53082ff6",
   "metadata": {},
   "outputs": [
    {
     "data": {
      "text/html": [
       "<div>\n",
       "<style scoped>\n",
       "    .dataframe tbody tr th:only-of-type {\n",
       "        vertical-align: middle;\n",
       "    }\n",
       "\n",
       "    .dataframe tbody tr th {\n",
       "        vertical-align: top;\n",
       "    }\n",
       "\n",
       "    .dataframe thead th {\n",
       "        text-align: right;\n",
       "    }\n",
       "</style>\n",
       "<table border=\"1\" class=\"dataframe\">\n",
       "  <thead>\n",
       "    <tr style=\"text-align: right;\">\n",
       "      <th></th>\n",
       "      <th>count</th>\n",
       "      <th>mean</th>\n",
       "      <th>std</th>\n",
       "      <th>min</th>\n",
       "      <th>25%</th>\n",
       "      <th>50%</th>\n",
       "      <th>75%</th>\n",
       "      <th>max</th>\n",
       "    </tr>\n",
       "  </thead>\n",
       "  <tbody>\n",
       "    <tr>\n",
       "      <th>age</th>\n",
       "      <td>700.0</td>\n",
       "      <td>34.860000</td>\n",
       "      <td>7.997342</td>\n",
       "      <td>20.000000</td>\n",
       "      <td>29.000000</td>\n",
       "      <td>34.000000</td>\n",
       "      <td>40.000000</td>\n",
       "      <td>56.00000</td>\n",
       "    </tr>\n",
       "    <tr>\n",
       "      <th>ed</th>\n",
       "      <td>700.0</td>\n",
       "      <td>1.722857</td>\n",
       "      <td>0.928206</td>\n",
       "      <td>1.000000</td>\n",
       "      <td>1.000000</td>\n",
       "      <td>1.000000</td>\n",
       "      <td>2.000000</td>\n",
       "      <td>5.00000</td>\n",
       "    </tr>\n",
       "    <tr>\n",
       "      <th>employ</th>\n",
       "      <td>700.0</td>\n",
       "      <td>8.388571</td>\n",
       "      <td>6.658039</td>\n",
       "      <td>0.000000</td>\n",
       "      <td>3.000000</td>\n",
       "      <td>7.000000</td>\n",
       "      <td>12.000000</td>\n",
       "      <td>31.00000</td>\n",
       "    </tr>\n",
       "    <tr>\n",
       "      <th>address</th>\n",
       "      <td>700.0</td>\n",
       "      <td>8.278571</td>\n",
       "      <td>6.824877</td>\n",
       "      <td>0.000000</td>\n",
       "      <td>3.000000</td>\n",
       "      <td>7.000000</td>\n",
       "      <td>12.000000</td>\n",
       "      <td>34.00000</td>\n",
       "    </tr>\n",
       "    <tr>\n",
       "      <th>income</th>\n",
       "      <td>700.0</td>\n",
       "      <td>45.601429</td>\n",
       "      <td>36.814226</td>\n",
       "      <td>14.000000</td>\n",
       "      <td>24.000000</td>\n",
       "      <td>34.000000</td>\n",
       "      <td>55.000000</td>\n",
       "      <td>446.00000</td>\n",
       "    </tr>\n",
       "    <tr>\n",
       "      <th>debtinc</th>\n",
       "      <td>700.0</td>\n",
       "      <td>10.260571</td>\n",
       "      <td>6.827234</td>\n",
       "      <td>0.400000</td>\n",
       "      <td>5.000000</td>\n",
       "      <td>8.600000</td>\n",
       "      <td>14.125000</td>\n",
       "      <td>41.30000</td>\n",
       "    </tr>\n",
       "    <tr>\n",
       "      <th>creddebt</th>\n",
       "      <td>700.0</td>\n",
       "      <td>1.553553</td>\n",
       "      <td>2.117197</td>\n",
       "      <td>0.011696</td>\n",
       "      <td>0.369059</td>\n",
       "      <td>0.854869</td>\n",
       "      <td>1.901955</td>\n",
       "      <td>20.56131</td>\n",
       "    </tr>\n",
       "    <tr>\n",
       "      <th>othdebt</th>\n",
       "      <td>700.0</td>\n",
       "      <td>3.058209</td>\n",
       "      <td>3.287555</td>\n",
       "      <td>0.045584</td>\n",
       "      <td>1.044178</td>\n",
       "      <td>1.987567</td>\n",
       "      <td>3.923065</td>\n",
       "      <td>27.03360</td>\n",
       "    </tr>\n",
       "    <tr>\n",
       "      <th>default</th>\n",
       "      <td>700.0</td>\n",
       "      <td>0.261429</td>\n",
       "      <td>0.439727</td>\n",
       "      <td>0.000000</td>\n",
       "      <td>0.000000</td>\n",
       "      <td>0.000000</td>\n",
       "      <td>1.000000</td>\n",
       "      <td>1.00000</td>\n",
       "    </tr>\n",
       "  </tbody>\n",
       "</table>\n",
       "</div>"
      ],
      "text/plain": [
       "          count       mean        std        min        25%        50%  \\\n",
       "age       700.0  34.860000   7.997342  20.000000  29.000000  34.000000   \n",
       "ed        700.0   1.722857   0.928206   1.000000   1.000000   1.000000   \n",
       "employ    700.0   8.388571   6.658039   0.000000   3.000000   7.000000   \n",
       "address   700.0   8.278571   6.824877   0.000000   3.000000   7.000000   \n",
       "income    700.0  45.601429  36.814226  14.000000  24.000000  34.000000   \n",
       "debtinc   700.0  10.260571   6.827234   0.400000   5.000000   8.600000   \n",
       "creddebt  700.0   1.553553   2.117197   0.011696   0.369059   0.854869   \n",
       "othdebt   700.0   3.058209   3.287555   0.045584   1.044178   1.987567   \n",
       "default   700.0   0.261429   0.439727   0.000000   0.000000   0.000000   \n",
       "\n",
       "                75%        max  \n",
       "age       40.000000   56.00000  \n",
       "ed         2.000000    5.00000  \n",
       "employ    12.000000   31.00000  \n",
       "address   12.000000   34.00000  \n",
       "income    55.000000  446.00000  \n",
       "debtinc   14.125000   41.30000  \n",
       "creddebt   1.901955   20.56131  \n",
       "othdebt    3.923065   27.03360  \n",
       "default    1.000000    1.00000  "
      ]
     },
     "execution_count": 12,
     "metadata": {},
     "output_type": "execute_result"
    }
   ],
   "source": [
    "data.describe().T"
   ]
  },
  {
   "cell_type": "code",
   "execution_count": 13,
   "id": "05556a20",
   "metadata": {},
   "outputs": [],
   "source": [
    "def outlier_capping(x):\n",
    "    x = x.clip(upper = x.quantile(0.99))\n",
    "    x = x.clip(lower = x.quantile(0.01))\n",
    "    return x"
   ]
  },
  {
   "cell_type": "code",
   "execution_count": 14,
   "id": "1ada56e2",
   "metadata": {},
   "outputs": [],
   "source": [
    "Cleaned_data=data.apply(outlier_capping)"
   ]
  },
  {
   "cell_type": "code",
   "execution_count": 18,
   "id": "44d02c9c",
   "metadata": {},
   "outputs": [
    {
     "data": {
      "image/png": "[encoded data removed]",
      "text/plain": [
       "<Figure size 576x432 with 2 Axes>"
      ]
     },
     "metadata": {
      "needs_background": "light"
     },
     "output_type": "display_data"
    }
   ],
   "source": [
    "correlation_mat=Cleaned_data.corr()\n",
    "plt.figure(figsize=(8,6))\n",
    "sns.heatmap(correlation_mat, annot=True, cmap=\"coolwarm\")\n",
    "plt.show()"
   ]
  },
  {
   "cell_type": "code",
   "execution_count": 20,
   "id": "3bfe5541",
   "metadata": {},
   "outputs": [
    {
     "data": {
      "text/plain": [
       "0    517\n",
       "1    183\n",
       "Name: default, dtype: int64"
      ]
     },
     "execution_count": 20,
     "metadata": {},
     "output_type": "execute_result"
    }
   ],
   "source": [
    "Cleaned_data[\"default\"].value_counts()"
   ]
  },
  {
   "cell_type": "code",
   "execution_count": 32,
   "id": "db617b64",
   "metadata": {},
   "outputs": [],
   "source": [
    "y=Cleaned_data[\"default\"]\n",
    "x=Cleaned_data.drop([\"default\"], axis=1)"
   ]
  },
  {
   "cell_type": "code",
   "execution_count": 42,
   "id": "ff770d2a",
   "metadata": {},
   "outputs": [],
   "source": [
    "x_train,  x_test,y_train , y_test=train_test_split(x,y, test_size=.25, random_state=9)"
   ]
  },
  {
   "cell_type": "code",
   "execution_count": 43,
   "id": "9c7503e8",
   "metadata": {},
   "outputs": [
    {
     "data": {
      "text/plain": [
       "LogisticRegression(max_iter=10000)"
      ]
     },
     "execution_count": 43,
     "metadata": {},
     "output_type": "execute_result"
    }
   ],
   "source": [
    "log=LogisticRegression(max_iter=10000)\n",
    "log.fit(x_train, y_train)"
   ]
  },
  {
   "cell_type": "markdown",
   "id": "76eb4fc4",
   "metadata": {},
   "source": [
    "### Model Evaluation"
   ]
  },
  {
   "cell_type": "code",
   "execution_count": 44,
   "id": "5d507c91",
   "metadata": {},
   "outputs": [
    {
     "name": "stdout",
     "output_type": "stream",
     "text": [
      "Training Score : 0.8076190476190476\n",
      "Testing Score : 0.8114285714285714\n"
     ]
    }
   ],
   "source": [
    "print(f\"Training Score : {log.score(x_train, y_train)}\")\n",
    "print(f\"Testing Score : {log.score(x_test, y_test)}\")"
   ]
  },
  {
   "cell_type": "code",
   "execution_count": 45,
   "id": "af1b4e11",
   "metadata": {},
   "outputs": [],
   "source": [
    "pred_train=log.predict(x_train)\n",
    "pred_test=log.predict(x_test)"
   ]
  },
  {
   "cell_type": "code",
   "execution_count": 46,
   "id": "af357d9c",
   "metadata": {},
   "outputs": [
    {
     "data": {
      "text/plain": [
       "array([0, 0, 0, 1, 0, 0, 0, 0, 0, 1, 0, 0, 1, 0, 1, 0, 0, 0, 0, 0, 0, 1,\n",
       "       1, 1, 0, 0, 1, 0, 0, 0, 1, 1, 0, 0, 0, 0, 0, 0, 0, 0, 0, 0, 0, 0,\n",
       "       0, 0, 1, 0, 0, 0, 0, 0, 0, 0, 1, 0, 0, 0, 0, 0, 0, 1, 1, 0, 0, 1,\n",
       "       0, 1, 1, 0, 0, 0, 0, 0, 0, 0, 0, 0, 0, 0, 0, 0, 1, 0, 0, 0, 0, 0,\n",
       "       0, 0, 0, 0, 1, 0, 1, 0, 0, 0, 0, 0, 0, 0, 0, 0, 0, 0, 0, 0, 0, 0,\n",
       "       0, 0, 0, 1, 0, 0, 0, 0, 0, 1, 0, 0, 0, 0, 0, 1, 0, 0, 0, 0, 0, 0,\n",
       "       1, 0, 0, 0, 0, 0, 0, 1, 0, 0, 0, 0, 0, 1, 1, 0, 0, 0, 0, 0, 1, 0,\n",
       "       0, 0, 0, 1, 0, 0, 0, 1, 1, 0, 0, 0, 0, 0, 1, 0, 0, 1, 0, 0, 0, 1,\n",
       "       0, 0, 1, 0, 0, 0, 0, 0, 0, 0, 0, 0, 0, 0, 1, 0, 0, 1, 0, 1, 0, 1,\n",
       "       0, 0, 1, 1, 0, 0, 0, 1, 0, 0, 0, 1, 1, 0, 0, 0, 0, 0, 0, 0, 1, 0,\n",
       "       0, 0, 0, 0, 0, 1, 1, 0, 0, 1, 0, 0, 0, 0, 1, 1, 0, 1, 1, 0, 0, 0,\n",
       "       0, 0, 0, 0, 0, 0, 0, 1, 0, 0, 0, 0, 0, 0, 0, 0, 0, 0, 0, 1, 0, 0,\n",
       "       0, 0, 0, 0, 0, 0, 0, 0, 0, 1, 1, 0, 0, 0, 0, 0, 0, 1, 0, 0, 0, 0,\n",
       "       0, 1, 0, 0, 1, 0, 0, 0, 0, 0, 0, 0, 0, 1, 0, 0, 0, 1, 1, 0, 0, 0,\n",
       "       0, 0, 0, 1, 0, 0, 0, 1, 1, 0, 0, 0, 1, 0, 0, 0, 0, 0, 1, 0, 0, 0,\n",
       "       0, 1, 0, 0, 1, 0, 1, 0, 1, 0, 0, 0, 0, 0, 0, 0, 0, 0, 1, 0, 0, 1,\n",
       "       0, 0, 0, 0, 0, 0, 0, 1, 0, 0, 0, 0, 1, 0, 1, 0, 0, 1, 0, 0, 0, 1,\n",
       "       0, 0, 1, 0, 0, 0, 0, 0, 0, 0, 1, 0, 0, 0, 0, 0, 0, 0, 0, 0, 0, 0,\n",
       "       1, 0, 0, 0, 0, 0, 0, 0, 0, 0, 0, 1, 0, 1, 0, 0, 0, 0, 0, 0, 0, 0,\n",
       "       0, 1, 0, 1, 0, 0, 0, 0, 0, 0, 1, 0, 0, 1, 0, 0, 0, 0, 1, 0, 0, 0,\n",
       "       0, 0, 0, 1, 0, 0, 0, 0, 0, 0, 0, 0, 0, 1, 0, 0, 1, 0, 0, 0, 0, 0,\n",
       "       0, 0, 0, 1, 0, 0, 0, 0, 0, 1, 1, 0, 0, 0, 0, 0, 0, 0, 0, 0, 0, 0,\n",
       "       1, 1, 0, 1, 0, 0, 1, 0, 0, 0, 1, 0, 0, 0, 1, 0, 0, 0, 0, 0, 1, 0,\n",
       "       0, 0, 0, 0, 0, 0, 1, 0, 0, 0, 0, 0, 0, 0, 0, 1, 0, 0, 1],\n",
       "      dtype=int64)"
      ]
     },
     "execution_count": 46,
     "metadata": {},
     "output_type": "execute_result"
    }
   ],
   "source": [
    "pred_train"
   ]
  },
  {
   "cell_type": "code",
   "execution_count": 49,
   "id": "c8ff31ee",
   "metadata": {},
   "outputs": [
    {
     "data": {
      "text/plain": [
       "342    0\n",
       "620    0\n",
       "178    0\n",
       "123    1\n",
       "582    0\n",
       "      ..\n",
       "56     0\n",
       "501    1\n",
       "638    0\n",
       "348    0\n",
       "382    1\n",
       "Name: default, Length: 525, dtype: int64"
      ]
     },
     "execution_count": 49,
     "metadata": {},
     "output_type": "execute_result"
    }
   ],
   "source": [
    "y_train"
   ]
  },
  {
   "cell_type": "code",
   "execution_count": 62,
   "id": "2110380b",
   "metadata": {},
   "outputs": [
    {
     "data": {
      "text/html": [
       "<div>\n",
       "<style scoped>\n",
       "    .dataframe tbody tr th:only-of-type {\n",
       "        vertical-align: middle;\n",
       "    }\n",
       "\n",
       "    .dataframe tbody tr th {\n",
       "        vertical-align: top;\n",
       "    }\n",
       "\n",
       "    .dataframe thead th {\n",
       "        text-align: right;\n",
       "    }\n",
       "</style>\n",
       "<table border=\"1\" class=\"dataframe\">\n",
       "  <thead>\n",
       "    <tr style=\"text-align: right;\">\n",
       "      <th></th>\n",
       "      <th>Pred_0</th>\n",
       "      <th>Pred_1</th>\n",
       "    </tr>\n",
       "  </thead>\n",
       "  <tbody>\n",
       "    <tr>\n",
       "      <th>act_0</th>\n",
       "      <td>353</td>\n",
       "      <td>33</td>\n",
       "    </tr>\n",
       "    <tr>\n",
       "      <th>act_1</th>\n",
       "      <td>68</td>\n",
       "      <td>71</td>\n",
       "    </tr>\n",
       "  </tbody>\n",
       "</table>\n",
       "</div>"
      ],
      "text/plain": [
       "       Pred_0  Pred_1\n",
       "act_0     353      33\n",
       "act_1      68      71"
      ]
     },
     "execution_count": 62,
     "metadata": {},
     "output_type": "execute_result"
    }
   ],
   "source": [
    "cnf=pd.DataFrame(metrics.confusion_matrix(y_train , pred_train), columns=[\"Pred_0\", \"Pred_1\"],\n",
    "                index=[\"act_0\", \"act_1\"])\n",
    "cnf"
   ]
  },
  {
   "cell_type": "code",
   "execution_count": 63,
   "id": "a9b43916",
   "metadata": {},
   "outputs": [
    {
     "name": "stdout",
     "output_type": "stream",
     "text": [
      "              precision    recall  f1-score   support\n",
      "\n",
      "           0       0.84      0.91      0.87       386\n",
      "           1       0.68      0.51      0.58       139\n",
      "\n",
      "    accuracy                           0.81       525\n",
      "   macro avg       0.76      0.71      0.73       525\n",
      "weighted avg       0.80      0.81      0.80       525\n",
      "\n"
     ]
    }
   ],
   "source": [
    "print(metrics.classification_report(y_train, pred_train)) "
   ]
  },
  {
   "cell_type": "code",
   "execution_count": 65,
   "id": "b37a0795",
   "metadata": {},
   "outputs": [
    {
     "data": {
      "text/html": [
       "<div>\n",
       "<style scoped>\n",
       "    .dataframe tbody tr th:only-of-type {\n",
       "        vertical-align: middle;\n",
       "    }\n",
       "\n",
       "    .dataframe tbody tr th {\n",
       "        vertical-align: top;\n",
       "    }\n",
       "\n",
       "    .dataframe thead th {\n",
       "        text-align: right;\n",
       "    }\n",
       "</style>\n",
       "<table border=\"1\" class=\"dataframe\">\n",
       "  <thead>\n",
       "    <tr style=\"text-align: right;\">\n",
       "      <th></th>\n",
       "      <th>Pred_0</th>\n",
       "      <th>Pred_1</th>\n",
       "    </tr>\n",
       "  </thead>\n",
       "  <tbody>\n",
       "    <tr>\n",
       "      <th>act_0</th>\n",
       "      <td>121</td>\n",
       "      <td>10</td>\n",
       "    </tr>\n",
       "    <tr>\n",
       "      <th>act_1</th>\n",
       "      <td>23</td>\n",
       "      <td>21</td>\n",
       "    </tr>\n",
       "  </tbody>\n",
       "</table>\n",
       "</div>"
      ],
      "text/plain": [
       "       Pred_0  Pred_1\n",
       "act_0     121      10\n",
       "act_1      23      21"
      ]
     },
     "execution_count": 65,
     "metadata": {},
     "output_type": "execute_result"
    }
   ],
   "source": [
    "cnfTest=pd.DataFrame(metrics.confusion_matrix(y_test , pred_test), columns=[\"Pred_0\", \"Pred_1\"],\n",
    "                index=[\"act_0\", \"act_1\"])\n",
    "cnfTest"
   ]
  },
  {
   "cell_type": "code",
   "execution_count": 66,
   "id": "539bc9cb",
   "metadata": {},
   "outputs": [
    {
     "name": "stdout",
     "output_type": "stream",
     "text": [
      "              precision    recall  f1-score   support\n",
      "\n",
      "           0       0.84      0.92      0.88       131\n",
      "           1       0.68      0.48      0.56        44\n",
      "\n",
      "    accuracy                           0.81       175\n",
      "   macro avg       0.76      0.70      0.72       175\n",
      "weighted avg       0.80      0.81      0.80       175\n",
      "\n"
     ]
    }
   ],
   "source": [
    "print(metrics.classification_report(y_test, pred_test))"
   ]
  },
  {
   "cell_type": "code",
   "execution_count": 70,
   "id": "90c850c4",
   "metadata": {},
   "outputs": [
    {
     "data": {
      "text/html": [
       "<div>\n",
       "<style scoped>\n",
       "    .dataframe tbody tr th:only-of-type {\n",
       "        vertical-align: middle;\n",
       "    }\n",
       "\n",
       "    .dataframe tbody tr th {\n",
       "        vertical-align: top;\n",
       "    }\n",
       "\n",
       "    .dataframe thead th {\n",
       "        text-align: right;\n",
       "    }\n",
       "</style>\n",
       "<table border=\"1\" class=\"dataframe\">\n",
       "  <thead>\n",
       "    <tr style=\"text-align: right;\">\n",
       "      <th></th>\n",
       "      <th>Prob_0</th>\n",
       "      <th>Prob_1</th>\n",
       "    </tr>\n",
       "  </thead>\n",
       "  <tbody>\n",
       "    <tr>\n",
       "      <th>0</th>\n",
       "      <td>0.996121</td>\n",
       "      <td>0.003879</td>\n",
       "    </tr>\n",
       "    <tr>\n",
       "      <th>1</th>\n",
       "      <td>0.588338</td>\n",
       "      <td>0.411662</td>\n",
       "    </tr>\n",
       "    <tr>\n",
       "      <th>2</th>\n",
       "      <td>0.955957</td>\n",
       "      <td>0.044043</td>\n",
       "    </tr>\n",
       "    <tr>\n",
       "      <th>3</th>\n",
       "      <td>0.451167</td>\n",
       "      <td>0.548833</td>\n",
       "    </tr>\n",
       "    <tr>\n",
       "      <th>4</th>\n",
       "      <td>0.681965</td>\n",
       "      <td>0.318035</td>\n",
       "    </tr>\n",
       "    <tr>\n",
       "      <th>...</th>\n",
       "      <td>...</td>\n",
       "      <td>...</td>\n",
       "    </tr>\n",
       "    <tr>\n",
       "      <th>520</th>\n",
       "      <td>0.894002</td>\n",
       "      <td>0.105998</td>\n",
       "    </tr>\n",
       "    <tr>\n",
       "      <th>521</th>\n",
       "      <td>0.480223</td>\n",
       "      <td>0.519777</td>\n",
       "    </tr>\n",
       "    <tr>\n",
       "      <th>522</th>\n",
       "      <td>0.778908</td>\n",
       "      <td>0.221092</td>\n",
       "    </tr>\n",
       "    <tr>\n",
       "      <th>523</th>\n",
       "      <td>0.867427</td>\n",
       "      <td>0.132573</td>\n",
       "    </tr>\n",
       "    <tr>\n",
       "      <th>524</th>\n",
       "      <td>0.173512</td>\n",
       "      <td>0.826488</td>\n",
       "    </tr>\n",
       "  </tbody>\n",
       "</table>\n",
       "<p>525 rows × 2 columns</p>\n",
       "</div>"
      ],
      "text/plain": [
       "       Prob_0    Prob_1\n",
       "0    0.996121  0.003879\n",
       "1    0.588338  0.411662\n",
       "2    0.955957  0.044043\n",
       "3    0.451167  0.548833\n",
       "4    0.681965  0.318035\n",
       "..        ...       ...\n",
       "520  0.894002  0.105998\n",
       "521  0.480223  0.519777\n",
       "522  0.778908  0.221092\n",
       "523  0.867427  0.132573\n",
       "524  0.173512  0.826488\n",
       "\n",
       "[525 rows x 2 columns]"
      ]
     },
     "execution_count": 70,
     "metadata": {},
     "output_type": "execute_result"
    }
   ],
   "source": [
    "pd.DataFrame(log.predict_proba(x_train), columns=[\"Prob_0\", \"Prob_1\"])"
   ]
  },
  {
   "cell_type": "code",
   "execution_count": 71,
   "id": "940549fa",
   "metadata": {},
   "outputs": [],
   "source": [
    "x_train1=x_train.copy()"
   ]
  },
  {
   "cell_type": "code",
   "execution_count": 73,
   "id": "ebfbd131",
   "metadata": {},
   "outputs": [],
   "source": [
    "x_train1[\"Actual_Default\"]=y_train\n",
    "x_train1[\"Prob_Default\"]=log.predict_proba(x_train)[:, 1]"
   ]
  },
  {
   "cell_type": "code",
   "execution_count": 74,
   "id": "900fa6bb",
   "metadata": {},
   "outputs": [
    {
     "data": {
      "text/html": [
       "<div>\n",
       "<style scoped>\n",
       "    .dataframe tbody tr th:only-of-type {\n",
       "        vertical-align: middle;\n",
       "    }\n",
       "\n",
       "    .dataframe tbody tr th {\n",
       "        vertical-align: top;\n",
       "    }\n",
       "\n",
       "    .dataframe thead th {\n",
       "        text-align: right;\n",
       "    }\n",
       "</style>\n",
       "<table border=\"1\" class=\"dataframe\">\n",
       "  <thead>\n",
       "    <tr style=\"text-align: right;\">\n",
       "      <th></th>\n",
       "      <th>age</th>\n",
       "      <th>ed</th>\n",
       "      <th>employ</th>\n",
       "      <th>address</th>\n",
       "      <th>income</th>\n",
       "      <th>debtinc</th>\n",
       "      <th>creddebt</th>\n",
       "      <th>othdebt</th>\n",
       "      <th>Actual_Default</th>\n",
       "      <th>Prob_Default</th>\n",
       "    </tr>\n",
       "  </thead>\n",
       "  <tbody>\n",
       "    <tr>\n",
       "      <th>342</th>\n",
       "      <td>39.0</td>\n",
       "      <td>2.0</td>\n",
       "      <td>15.0</td>\n",
       "      <td>19.0</td>\n",
       "      <td>32.0</td>\n",
       "      <td>4.9</td>\n",
       "      <td>0.421792</td>\n",
       "      <td>1.146208</td>\n",
       "      <td>0</td>\n",
       "      <td>0.003879</td>\n",
       "    </tr>\n",
       "    <tr>\n",
       "      <th>620</th>\n",
       "      <td>25.0</td>\n",
       "      <td>1.0</td>\n",
       "      <td>1.0</td>\n",
       "      <td>1.0</td>\n",
       "      <td>19.0</td>\n",
       "      <td>6.9</td>\n",
       "      <td>0.190095</td>\n",
       "      <td>1.120905</td>\n",
       "      <td>0</td>\n",
       "      <td>0.411662</td>\n",
       "    </tr>\n",
       "    <tr>\n",
       "      <th>178</th>\n",
       "      <td>37.0</td>\n",
       "      <td>1.0</td>\n",
       "      <td>13.0</td>\n",
       "      <td>5.0</td>\n",
       "      <td>24.0</td>\n",
       "      <td>8.9</td>\n",
       "      <td>0.602352</td>\n",
       "      <td>1.533648</td>\n",
       "      <td>0</td>\n",
       "      <td>0.044043</td>\n",
       "    </tr>\n",
       "    <tr>\n",
       "      <th>123</th>\n",
       "      <td>31.0</td>\n",
       "      <td>1.0</td>\n",
       "      <td>2.0</td>\n",
       "      <td>4.0</td>\n",
       "      <td>22.0</td>\n",
       "      <td>12.7</td>\n",
       "      <td>1.092454</td>\n",
       "      <td>1.701546</td>\n",
       "      <td>1</td>\n",
       "      <td>0.548833</td>\n",
       "    </tr>\n",
       "    <tr>\n",
       "      <th>582</th>\n",
       "      <td>36.0</td>\n",
       "      <td>1.0</td>\n",
       "      <td>9.0</td>\n",
       "      <td>1.0</td>\n",
       "      <td>40.0</td>\n",
       "      <td>9.8</td>\n",
       "      <td>1.975680</td>\n",
       "      <td>1.944320</td>\n",
       "      <td>0</td>\n",
       "      <td>0.318035</td>\n",
       "    </tr>\n",
       "    <tr>\n",
       "      <th>...</th>\n",
       "      <td>...</td>\n",
       "      <td>...</td>\n",
       "      <td>...</td>\n",
       "      <td>...</td>\n",
       "      <td>...</td>\n",
       "      <td>...</td>\n",
       "      <td>...</td>\n",
       "      <td>...</td>\n",
       "      <td>...</td>\n",
       "      <td>...</td>\n",
       "    </tr>\n",
       "    <tr>\n",
       "      <th>56</th>\n",
       "      <td>35.0</td>\n",
       "      <td>1.0</td>\n",
       "      <td>9.0</td>\n",
       "      <td>1.0</td>\n",
       "      <td>34.0</td>\n",
       "      <td>5.0</td>\n",
       "      <td>0.397800</td>\n",
       "      <td>1.302200</td>\n",
       "      <td>0</td>\n",
       "      <td>0.105998</td>\n",
       "    </tr>\n",
       "    <tr>\n",
       "      <th>501</th>\n",
       "      <td>35.0</td>\n",
       "      <td>2.0</td>\n",
       "      <td>3.0</td>\n",
       "      <td>11.0</td>\n",
       "      <td>40.0</td>\n",
       "      <td>17.2</td>\n",
       "      <td>1.802560</td>\n",
       "      <td>5.077440</td>\n",
       "      <td>1</td>\n",
       "      <td>0.519777</td>\n",
       "    </tr>\n",
       "    <tr>\n",
       "      <th>638</th>\n",
       "      <td>41.0</td>\n",
       "      <td>2.0</td>\n",
       "      <td>6.0</td>\n",
       "      <td>1.0</td>\n",
       "      <td>19.0</td>\n",
       "      <td>6.3</td>\n",
       "      <td>0.124488</td>\n",
       "      <td>1.072512</td>\n",
       "      <td>0</td>\n",
       "      <td>0.221092</td>\n",
       "    </tr>\n",
       "    <tr>\n",
       "      <th>348</th>\n",
       "      <td>29.0</td>\n",
       "      <td>2.0</td>\n",
       "      <td>3.0</td>\n",
       "      <td>8.0</td>\n",
       "      <td>15.0</td>\n",
       "      <td>2.6</td>\n",
       "      <td>0.146640</td>\n",
       "      <td>0.243360</td>\n",
       "      <td>0</td>\n",
       "      <td>0.132573</td>\n",
       "    </tr>\n",
       "    <tr>\n",
       "      <th>382</th>\n",
       "      <td>39.0</td>\n",
       "      <td>2.0</td>\n",
       "      <td>2.0</td>\n",
       "      <td>12.0</td>\n",
       "      <td>46.0</td>\n",
       "      <td>16.0</td>\n",
       "      <td>4.003840</td>\n",
       "      <td>3.356160</td>\n",
       "      <td>1</td>\n",
       "      <td>0.826488</td>\n",
       "    </tr>\n",
       "  </tbody>\n",
       "</table>\n",
       "<p>525 rows × 10 columns</p>\n",
       "</div>"
      ],
      "text/plain": [
       "      age   ed  employ  address  income  debtinc  creddebt   othdebt  \\\n",
       "342  39.0  2.0    15.0     19.0    32.0      4.9  0.421792  1.146208   \n",
       "620  25.0  1.0     1.0      1.0    19.0      6.9  0.190095  1.120905   \n",
       "178  37.0  1.0    13.0      5.0    24.0      8.9  0.602352  1.533648   \n",
       "123  31.0  1.0     2.0      4.0    22.0     12.7  1.092454  1.701546   \n",
       "582  36.0  1.0     9.0      1.0    40.0      9.8  1.975680  1.944320   \n",
       "..    ...  ...     ...      ...     ...      ...       ...       ...   \n",
       "56   35.0  1.0     9.0      1.0    34.0      5.0  0.397800  1.302200   \n",
       "501  35.0  2.0     3.0     11.0    40.0     17.2  1.802560  5.077440   \n",
       "638  41.0  2.0     6.0      1.0    19.0      6.3  0.124488  1.072512   \n",
       "348  29.0  2.0     3.0      8.0    15.0      2.6  0.146640  0.243360   \n",
       "382  39.0  2.0     2.0     12.0    46.0     16.0  4.003840  3.356160   \n",
       "\n",
       "     Actual_Default  Prob_Default  \n",
       "342               0      0.003879  \n",
       "620               0      0.411662  \n",
       "178               0      0.044043  \n",
       "123               1      0.548833  \n",
       "582               0      0.318035  \n",
       "..              ...           ...  \n",
       "56                0      0.105998  \n",
       "501               1      0.519777  \n",
       "638               0      0.221092  \n",
       "348               0      0.132573  \n",
       "382               1      0.826488  \n",
       "\n",
       "[525 rows x 10 columns]"
      ]
     },
     "execution_count": 74,
     "metadata": {},
     "output_type": "execute_result"
    }
   ],
   "source": [
    "x_train1"
   ]
  },
  {
   "cell_type": "code",
   "execution_count": 75,
   "id": "233014ce",
   "metadata": {},
   "outputs": [],
   "source": [
    "def profile_decile(X,y,trained_model):\n",
    "    X_1=X.copy()\n",
    "    y_1=y.copy()\n",
    "    y_pred1=trained_model.predict(X_1)\n",
    "    X_1[\"Prob_Event\"]=trained_model.predict_proba(X_1)[:,1]\n",
    "    X_1[\"Y_actual\"]=y_1\n",
    "    X_1[\"Y_pred\"]=y_pred1\n",
    "    X_1[\"Rank\"]=pd.qcut(X_1[\"Prob_Event\"], 10, labels=np.arange(0,10,1))\n",
    "    X_1[\"numb\"]=10\n",
    "    X_1[\"Decile\"]=X_1[\"numb\"]-X_1[\"Rank\"].astype(\"int\")\n",
    "    \n",
    "    profile=pd.DataFrame(X_1.groupby(\"Decile\") \\\n",
    "                        .apply(lambda x: pd.Series({\n",
    "        'min_score'   : x[\"Prob_Event\"].min(),\n",
    "        'max_score'   : x[\"Prob_Event\"].max(),\n",
    "        'Event'       : x[\"Y_actual\"].sum(),\n",
    "        'Non_event'   : x[\"Y_actual\"].count()-x[\"Y_actual\"].sum(),\n",
    "        'Total'       : x[\"Y_actual\"].count() })))\n",
    "    return profile"
   ]
  },
  {
   "cell_type": "code",
   "execution_count": null,
   "id": "f437e42a",
   "metadata": {},
   "outputs": [],
   "source": []
  },
  {
   "cell_type": "code",
   "execution_count": 83,
   "id": "7fc173c0",
   "metadata": {},
   "outputs": [],
   "source": [
    "train_profile=profile_decile(x_train, y_train, log)\n",
    "train_profile.to_excel(\"train_profile1.xlsx\" )"
   ]
  },
  {
   "cell_type": "code",
   "execution_count": 79,
   "id": "cc031073",
   "metadata": {},
   "outputs": [],
   "source": [
    "test_prof=profile_decile(x_test, y_test, log)\n",
    "test_prof.to_excel(\"test_profile.xlsx\") "
   ]
  },
  {
   "cell_type": "code",
   "execution_count": 84,
   "id": "71c0e528",
   "metadata": {},
   "outputs": [],
   "source": [
    "newtrain_pred=np.where(log.predict_proba(x_train)[:,1]>0.258825623540294, 1,0)"
   ]
  },
  {
   "cell_type": "code",
   "execution_count": 85,
   "id": "eecee1d3",
   "metadata": {},
   "outputs": [
    {
     "data": {
      "text/html": [
       "<div>\n",
       "<style scoped>\n",
       "    .dataframe tbody tr th:only-of-type {\n",
       "        vertical-align: middle;\n",
       "    }\n",
       "\n",
       "    .dataframe tbody tr th {\n",
       "        vertical-align: top;\n",
       "    }\n",
       "\n",
       "    .dataframe thead th {\n",
       "        text-align: right;\n",
       "    }\n",
       "</style>\n",
       "<table border=\"1\" class=\"dataframe\">\n",
       "  <thead>\n",
       "    <tr style=\"text-align: right;\">\n",
       "      <th></th>\n",
       "      <th>Pred_0</th>\n",
       "      <th>Pred_1</th>\n",
       "    </tr>\n",
       "  </thead>\n",
       "  <tbody>\n",
       "    <tr>\n",
       "      <th>act_0</th>\n",
       "      <td>288</td>\n",
       "      <td>98</td>\n",
       "    </tr>\n",
       "    <tr>\n",
       "      <th>act_1</th>\n",
       "      <td>27</td>\n",
       "      <td>112</td>\n",
       "    </tr>\n",
       "  </tbody>\n",
       "</table>\n",
       "</div>"
      ],
      "text/plain": [
       "       Pred_0  Pred_1\n",
       "act_0     288      98\n",
       "act_1      27     112"
      ]
     },
     "execution_count": 85,
     "metadata": {},
     "output_type": "execute_result"
    }
   ],
   "source": [
    "cnfNew=pd.DataFrame(metrics.confusion_matrix(y_train , newtrain_pred), columns=[\"Pred_0\", \"Pred_1\"],\n",
    "                index=[\"act_0\", \"act_1\"])\n",
    "cnfNew"
   ]
  },
  {
   "cell_type": "code",
   "execution_count": 86,
   "id": "59cfb0fe",
   "metadata": {},
   "outputs": [
    {
     "name": "stdout",
     "output_type": "stream",
     "text": [
      "              precision    recall  f1-score   support\n",
      "\n",
      "           0       0.91      0.75      0.82       386\n",
      "           1       0.53      0.81      0.64       139\n",
      "\n",
      "    accuracy                           0.76       525\n",
      "   macro avg       0.72      0.78      0.73       525\n",
      "weighted avg       0.81      0.76      0.77       525\n",
      "\n"
     ]
    }
   ],
   "source": [
    "print(metrics.classification_report(y_train, newtrain_pred))"
   ]
  },
  {
   "cell_type": "code",
   "execution_count": 87,
   "id": "b21381a5",
   "metadata": {},
   "outputs": [
    {
     "data": {
      "image/png": "[encoded data removed]",
      "text/plain": [
       "<Figure size 432x288 with 1 Axes>"
      ]
     },
     "metadata": {
      "needs_background": "light"
     },
     "output_type": "display_data"
    }
   ],
   "source": [
    "# Reciever Operating Characterestics \n",
    "\n",
    "probs=log.predict_proba(x_train)[:,1]\n",
    "\n",
    "fpr, tpr, threshold=metrics.roc_curve(y_train,probs )\n",
    "plt.plot([0,1],[0,1],'k--')\n",
    "plt.plot(fpr,tpr, label='logistic')\n",
    "plt.xlabel('fpr')\n",
    "plt.ylabel('tpr')\n",
    "plt.show()"
   ]
  },
  {
   "cell_type": "code",
   "execution_count": 88,
   "id": "762deda3",
   "metadata": {},
   "outputs": [
    {
     "data": {
      "text/plain": [
       "0.8551272971260298"
      ]
     },
     "execution_count": 88,
     "metadata": {},
     "output_type": "execute_result"
    }
   ],
   "source": [
    "metrics.roc_auc_score(y_train,probs) # AUC Area Under the Curve "
   ]
  },
  {
   "cell_type": "code",
   "execution_count": 93,
   "id": "246ca553",
   "metadata": {},
   "outputs": [],
   "source": [
    "new=pd.read_excel(\"Test_RiskScore.xlsx\")"
   ]
  },
  {
   "cell_type": "code",
   "execution_count": 97,
   "id": "a91ce8c6",
   "metadata": {},
   "outputs": [
    {
     "data": {
      "text/html": [
       "<div>\n",
       "<style scoped>\n",
       "    .dataframe tbody tr th:only-of-type {\n",
       "        vertical-align: middle;\n",
       "    }\n",
       "\n",
       "    .dataframe tbody tr th {\n",
       "        vertical-align: top;\n",
       "    }\n",
       "\n",
       "    .dataframe thead th {\n",
       "        text-align: right;\n",
       "    }\n",
       "</style>\n",
       "<table border=\"1\" class=\"dataframe\">\n",
       "  <thead>\n",
       "    <tr style=\"text-align: right;\">\n",
       "      <th></th>\n",
       "      <th>ID</th>\n",
       "      <th>age</th>\n",
       "      <th>ed</th>\n",
       "      <th>employ</th>\n",
       "      <th>address</th>\n",
       "      <th>income</th>\n",
       "      <th>debtinc</th>\n",
       "      <th>creddebt</th>\n",
       "      <th>othdebt</th>\n",
       "    </tr>\n",
       "  </thead>\n",
       "  <tbody>\n",
       "    <tr>\n",
       "      <th>0</th>\n",
       "      <td>700</td>\n",
       "      <td>32</td>\n",
       "      <td>4</td>\n",
       "      <td>7</td>\n",
       "      <td>6.0</td>\n",
       "      <td>73</td>\n",
       "      <td>1.40</td>\n",
       "      <td>3.00</td>\n",
       "      <td>2.34</td>\n",
       "    </tr>\n",
       "    <tr>\n",
       "      <th>1</th>\n",
       "      <td>701</td>\n",
       "      <td>45</td>\n",
       "      <td>4</td>\n",
       "      <td>15</td>\n",
       "      <td>15.0</td>\n",
       "      <td>120</td>\n",
       "      <td>4.78</td>\n",
       "      <td>4.67</td>\n",
       "      <td>5.78</td>\n",
       "    </tr>\n",
       "    <tr>\n",
       "      <th>2</th>\n",
       "      <td>702</td>\n",
       "      <td>32</td>\n",
       "      <td>4</td>\n",
       "      <td>7</td>\n",
       "      <td>6.0</td>\n",
       "      <td>73</td>\n",
       "      <td>10.34</td>\n",
       "      <td>3.00</td>\n",
       "      <td>2.34</td>\n",
       "    </tr>\n",
       "    <tr>\n",
       "      <th>3</th>\n",
       "      <td>703</td>\n",
       "      <td>24</td>\n",
       "      <td>3</td>\n",
       "      <td>2</td>\n",
       "      <td>2.5</td>\n",
       "      <td>25</td>\n",
       "      <td>32.00</td>\n",
       "      <td>8.00</td>\n",
       "      <td>0.00</td>\n",
       "    </tr>\n",
       "    <tr>\n",
       "      <th>4</th>\n",
       "      <td>704</td>\n",
       "      <td>32</td>\n",
       "      <td>1</td>\n",
       "      <td>7</td>\n",
       "      <td>5.0</td>\n",
       "      <td>105</td>\n",
       "      <td>12.00</td>\n",
       "      <td>9.00</td>\n",
       "      <td>3.00</td>\n",
       "    </tr>\n",
       "  </tbody>\n",
       "</table>\n",
       "</div>"
      ],
      "text/plain": [
       "    ID  age  ed  employ  address  income  debtinc  creddebt  othdebt\n",
       "0  700   32   4       7      6.0      73     1.40      3.00     2.34\n",
       "1  701   45   4      15     15.0     120     4.78      4.67     5.78\n",
       "2  702   32   4       7      6.0      73    10.34      3.00     2.34\n",
       "3  703   24   3       2      2.5      25    32.00      8.00     0.00\n",
       "4  704   32   1       7      5.0     105    12.00      9.00     3.00"
      ]
     },
     "execution_count": 97,
     "metadata": {},
     "output_type": "execute_result"
    }
   ],
   "source": [
    "new"
   ]
  },
  {
   "cell_type": "code",
   "execution_count": 98,
   "id": "29990d6a",
   "metadata": {},
   "outputs": [],
   "source": [
    "new.drop(columns=[\"ID\"],inplace=True)"
   ]
  },
  {
   "cell_type": "code",
   "execution_count": 99,
   "id": "be92a0ef",
   "metadata": {},
   "outputs": [
    {
     "data": {
      "text/html": [
       "<div>\n",
       "<style scoped>\n",
       "    .dataframe tbody tr th:only-of-type {\n",
       "        vertical-align: middle;\n",
       "    }\n",
       "\n",
       "    .dataframe tbody tr th {\n",
       "        vertical-align: top;\n",
       "    }\n",
       "\n",
       "    .dataframe thead th {\n",
       "        text-align: right;\n",
       "    }\n",
       "</style>\n",
       "<table border=\"1\" class=\"dataframe\">\n",
       "  <thead>\n",
       "    <tr style=\"text-align: right;\">\n",
       "      <th></th>\n",
       "      <th>age</th>\n",
       "      <th>ed</th>\n",
       "      <th>employ</th>\n",
       "      <th>address</th>\n",
       "      <th>income</th>\n",
       "      <th>debtinc</th>\n",
       "      <th>creddebt</th>\n",
       "      <th>othdebt</th>\n",
       "    </tr>\n",
       "  </thead>\n",
       "  <tbody>\n",
       "    <tr>\n",
       "      <th>0</th>\n",
       "      <td>32</td>\n",
       "      <td>4</td>\n",
       "      <td>7</td>\n",
       "      <td>6.0</td>\n",
       "      <td>73</td>\n",
       "      <td>1.40</td>\n",
       "      <td>3.00</td>\n",
       "      <td>2.34</td>\n",
       "    </tr>\n",
       "    <tr>\n",
       "      <th>1</th>\n",
       "      <td>45</td>\n",
       "      <td>4</td>\n",
       "      <td>15</td>\n",
       "      <td>15.0</td>\n",
       "      <td>120</td>\n",
       "      <td>4.78</td>\n",
       "      <td>4.67</td>\n",
       "      <td>5.78</td>\n",
       "    </tr>\n",
       "    <tr>\n",
       "      <th>2</th>\n",
       "      <td>32</td>\n",
       "      <td>4</td>\n",
       "      <td>7</td>\n",
       "      <td>6.0</td>\n",
       "      <td>73</td>\n",
       "      <td>10.34</td>\n",
       "      <td>3.00</td>\n",
       "      <td>2.34</td>\n",
       "    </tr>\n",
       "    <tr>\n",
       "      <th>3</th>\n",
       "      <td>24</td>\n",
       "      <td>3</td>\n",
       "      <td>2</td>\n",
       "      <td>2.5</td>\n",
       "      <td>25</td>\n",
       "      <td>32.00</td>\n",
       "      <td>8.00</td>\n",
       "      <td>0.00</td>\n",
       "    </tr>\n",
       "    <tr>\n",
       "      <th>4</th>\n",
       "      <td>32</td>\n",
       "      <td>1</td>\n",
       "      <td>7</td>\n",
       "      <td>5.0</td>\n",
       "      <td>105</td>\n",
       "      <td>12.00</td>\n",
       "      <td>9.00</td>\n",
       "      <td>3.00</td>\n",
       "    </tr>\n",
       "  </tbody>\n",
       "</table>\n",
       "</div>"
      ],
      "text/plain": [
       "   age  ed  employ  address  income  debtinc  creddebt  othdebt\n",
       "0   32   4       7      6.0      73     1.40      3.00     2.34\n",
       "1   45   4      15     15.0     120     4.78      4.67     5.78\n",
       "2   32   4       7      6.0      73    10.34      3.00     2.34\n",
       "3   24   3       2      2.5      25    32.00      8.00     0.00\n",
       "4   32   1       7      5.0     105    12.00      9.00     3.00"
      ]
     },
     "execution_count": 99,
     "metadata": {},
     "output_type": "execute_result"
    }
   ],
   "source": [
    "new"
   ]
  },
  {
   "cell_type": "code",
   "execution_count": 101,
   "id": "0ecd5ce2",
   "metadata": {},
   "outputs": [
    {
     "data": {
      "text/plain": [
       "array([0.27687626, 0.08386748, 0.41353477, 0.99723622, 0.97373057])"
      ]
     },
     "execution_count": 101,
     "metadata": {},
     "output_type": "execute_result"
    }
   ],
   "source": [
    "log.predict_proba(new)[:,1]"
   ]
  },
  {
   "cell_type": "code",
   "execution_count": null,
   "id": "03430ce1",
   "metadata": {},
   "outputs": [],
   "source": []
  }
 ],
 "metadata": {
  "kernelspec": {
   "display_name": "Python 3 (ipykernel)",
   "language": "python",
   "name": "python3"
  },
  "language_info": {
   "codemirror_mode": {
    "name": "ipython",
    "version": 3
   },
   "file_extension": ".py",
   "mimetype": "text/x-python",
   "name": "python",
   "nbconvert_exporter": "python",
   "pygments_lexer": "ipython3",
   "version": "3.8.5"
  }
 },
 "nbformat": 4,
 "nbformat_minor": 5
}
